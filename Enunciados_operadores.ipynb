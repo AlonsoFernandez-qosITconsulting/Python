{
 "cells": [
  {
   "cell_type": "markdown",
   "metadata": {},
   "source": [
    "# Tema 02: Operadores y expresiones (Enunciados)\n",
    "*Nota: Estos ejercicios son optativos para hacer al final de la unidad y están pensados para apoyar tu aprendizaje*."
   ]
  },
  {
   "cell_type": "markdown",
   "metadata": {},
   "source": [
    "**1) Realiza un programa que lea 2 números por teclado y determine los siguientes aspectos (es suficiene con mostrar True o False):**\n",
    "* Si los dos números son iguales\n",
    "* Si los dos números son diferentes\n",
    "* Si el primero es mayor que el segundo\n",
    "* Si el segundo es mayor o igual que el primero"
   ]
  },
  {
   "cell_type": "code",
   "execution_count": 1,
   "metadata": {},
   "outputs": [
    {
     "name": "stdout",
     "output_type": "stream",
     "text": [
      "¿Los dos números son iguales? True\n",
      "¿Los dos números son diferentes? False\n",
      "¿El primero es mayor que el segundo? False\n",
      "¿El segundo es mayor o igual que el primero? True\n"
     ]
    }
   ],
   "source": [
    "# Completa el ejercicio aquí\n",
    "numero1 = int(input(\"Introduce el primer número:\"))\n",
    "numero2 = int(input(\"Introduce el segundo número:\"))\n",
    "\n",
    "print(f\"¿Los dos números son iguales? {numero1 == numero2}\")\n",
    "print(f\"¿Los dos números son diferentes? {numero1 != numero2}\")\n",
    "print(f\"¿El primero es mayor que el segundo? {numero1 > numero2}\")\n",
    "print(f\"¿El segundo es mayor o igual que el primero? {numero2 >= numero1}\")"
   ]
  },
  {
   "cell_type": "markdown",
   "metadata": {},
   "source": [
    "**2) Utilizando operadores lógicos, determina si una cadena de texto introducida por el usuario tiene una longitud mayor o igual que 3 y a su vez es menor que 10 (es suficiene con mostrar True o False):**"
   ]
  },
  {
   "cell_type": "code",
   "execution_count": 2,
   "metadata": {},
   "outputs": [],
   "source": [
    "# Completa el ejercicio aquí\n",
    "texto = input(\"Introduce una cadena de texto:\")\n",
    "\n",
    "resultado = len(texto) >= 3 and len(texto) < 10\n",
    "\n",
    "print(resultado)"
   ]
  },
  {
   "cell_type": "markdown",
   "metadata": {},
   "source": [
    "**3) Realiza un programa que cumpla el siguiente algoritmo utilizando siempre que sea posible operadores en asignación:**\n",
    "* Guarda en una variable numero_magico el valor 12345679 (sin el 8)\n",
    "* Lee por pantalla otro numero_usuario, especifica que sea entre 1 y 9 (asegúrate que es un número)\n",
    "* Multiplica el numero_usuario por 9 en sí mismo\n",
    "* Multiplica el numero_magico por el numero_usuario en sí mismo\n",
    "* Finalmente muestra el valor final del numero_magico por pantalla\n"
   ]
  },
  {
   "cell_type": "code",
   "execution_count": 3,
   "metadata": {},
   "outputs": [],
   "source": [
    "# Completa el ejercicio aquí\n",
    "numero_magico = 12345679\n",
    "\n",
    "while True:\n",
    "    try:\n",
    "        numero_usuario = int(input(\"Introduce un número entre 1 y 9: \"))\n",
    "        if 1 <= numero_usuario <= 9:\n",
    "            break\n",
    "        else:\n",
    "            print(\"Por favor, introduce un número entre 1 y 9.\")\n",
    "\n",
    "numero_usuario *= 9\n",
    "\n",
    "numero_magico *= numero_usuario\n",
    "\n",
    "print(f\"El valor final del número mágico es: {numero_magico}\")\n",
    "\n"
   ]
  },
  {
   "cell_type": "code",
   "execution_count": null,
   "metadata": {},
   "outputs": [],
   "source": []
  }
 ],
 "metadata": {
  "anaconda-cloud": {},
  "kernelspec": {
   "display_name": "Python 3",
   "language": "python",
   "name": "python3"
  },
  "language_info": {
   "codemirror_mode": {
    "name": "ipython",
    "version": 3
   },
   "file_extension": ".py",
   "mimetype": "text/x-python",
   "name": "python",
   "nbconvert_exporter": "python",
   "pygments_lexer": "ipython3",
   "version": "3.12.8"
  }
 },
 "nbformat": 4,
 "nbformat_minor": 2
}
