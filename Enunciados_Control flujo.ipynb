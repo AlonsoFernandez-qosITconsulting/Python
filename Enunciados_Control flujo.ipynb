{
 "cells": [
  {
   "cell_type": "markdown",
   "metadata": {
    "id": "iBFcYF7FxY32"
   },
   "source": [
    "# Tema 03: Control de flujo (Enunciados)\n",
    "*Nota: Estos ejercicios son optativos para hacer al final de la unidad y están pensados para apoyar tu aprendizaje*."
   ]
  },
  {
   "cell_type": "markdown",
   "metadata": {
    "id": "ehUgf3WCxY36"
   },
   "source": [
    "**1) Realiza un programa que lea dos números por teclado y permita elegir entre 3 opciones en un menú:**\n",
    "* Mostrar una suma de los dos números\n",
    "* Mostrar una resta de los dos números (el primero menos el segundo)\n",
    "* Mostrar una multiplicación de los dos números\n",
    "* En caso de no introducir una opción válida, el programa informará de que no es correcta."
   ]
  },
  {
   "cell_type": "code",
   "execution_count": null,
   "metadata": {
    "id": "xe4aSXa9xY37"
   },
   "outputs": [],
   "source": [
    "# Completa el ejercicio aquí\n",
    "numero1 = float(input(\"Introduce el primer número: \"))\n",
    "numero2 = float(input(\"Introduce el segundo número: \"))\n",
    "\n",
    "print(\"\\nMenú de opciones:\")\n",
    "print(\"1. Sumar los dos números\")\n",
    "print(\"2. Restar el primer número al segundo\")\n",
    "print(\"3. Multiplicar los dos números\")\n",
    "\n",
    "opcion = input(\"Elige una opción (1, 2, o 3): \")\n",
    "\n",
    "if opcion == '1':\n",
    "    resultado = numero1 + numero2\n",
    "    print(f\"La suma de los dos números es: {resultado}\")\n",
    "elif opcion == '2':\n",
    "    resultado = numero1 - numero2\n",
    "    print(f\"La resta del primer número menos el segundo es: {resultado}\")\n",
    "elif opcion == '3':\n",
    "    resultado = numero1 * numero2\n",
    "    print(f\"La multiplicación de los dos números es: {resultado}\")\n",
    "else:\n",
    "    print(\"Opción no válida. Por favor, elige una opción entre 1, 2 o 3.\")\n"
   ]
  },
  {
   "cell_type": "markdown",
   "metadata": {
    "id": "5FI7ny3NxY3-"
   },
   "source": [
    "**2) Realiza un programa que lea un número impar por teclado. Si el usuario no introduce un número impar, debe repetise el proceso hasta que lo introduzca correctamente.**"
   ]
  },
  {
   "cell_type": "code",
   "execution_count": null,
   "metadata": {
    "id": "px2HiSlJxY3-"
   },
   "outputs": [],
   "source": [
    "# Completa el ejercicio aquí\n",
    "while True:\n",
    "    try:\n",
    "        numero = int(input(\"Introduce un número impar: \"))\n",
    "        if numero % 2 != 0:\n",
    "            print(f\"¡Has introducido un número impar: {numero}!\")\n",
    "            break \n",
    "        else:\n",
    "            print(\"El número no es impar. Por favor, intenta de nuevo.\")\n",
    "    except ValueError:\n",
    "        print(\"Entrada inválida. Por favor, introduce un número entero.\")\n"
   ]
  },
  {
   "cell_type": "markdown",
   "metadata": {
    "id": "wNz99wPRxY3-"
   },
   "source": [
    "**3) Realiza un programa que sume todos los números enteros pares desde el 0 hasta el 100:**\n",
    "\n",
    "*Sugerencia: Puedes utilizar la funciones sum() y range() para hacerlo más fácil. El tercer parámetro en la función range(inicio, fin, salto) indica un salto de números, pruébalo.*"
   ]
  },
  {
   "cell_type": "code",
   "execution_count": null,
   "metadata": {
    "id": "EUKk70QgxY3_"
   },
   "outputs": [],
   "source": [
    "# Completa el ejercicio aquí\n",
    "suma = 0\n",
    "\n",
    "for numero in range(0, 101, 2):\n",
    "    suma += numero\n",
    "\n",
    "print(f\"La suma de todos los números pares desde 0 hasta 100 es: {suma}\")\n"
   ]
  },
  {
   "cell_type": "markdown",
   "metadata": {
    "id": "vvm35sPHxY4A"
   },
   "source": [
    "**4) Realiza un programa que pida al usuario cuantos números quiere introducir. Luego lee todos los números y realiza una media aritmética:**\n"
   ]
  },
  {
   "cell_type": "code",
   "execution_count": 1,
   "metadata": {
    "id": "rzjUJijQxY4A"
   },
   "outputs": [
    {
     "name": "stdout",
     "output_type": "stream",
     "text": [
      "La media aritmética de los números introducidos es: 4.833333333333333\n"
     ]
    }
   ],
   "source": [
    "# Completa el ejercicio aquí\n",
    "cantidad = int(input(\"¿Cuántos números quieres introducir? \"))\n",
    "\n",
    "suma = 0\n",
    "\n",
    "for i in range(cantidad):\n",
    "    numero = int(input(f\"Introduce el número {i+1}: \"))\n",
    "    suma += numero\n",
    "\n",
    "media = suma / cantidad\n",
    "\n",
    "print(f\"La media aritmética de los números introducidos es: {media}\")"
   ]
  },
  {
   "cell_type": "markdown",
   "metadata": {
    "id": "xh1iQHRPxY4B"
   },
   "source": [
    "**5) Realiza un programa que pida al usuario un número entero del 0 al 9, y que mientras el número no sea correcto se repita el proceso. Luego debe comprobar si el número se encuentra en la lista de números y notificarlo:**\n",
    "\n",
    "*Consejo: La sintaxis \"valor in lista\" permite comprobar fácilmente si un valor se encuentra en una lista (devuelve True o False)*"
   ]
  },
  {
   "cell_type": "code",
   "execution_count": null,
   "metadata": {
    "id": "ztli0w0HxY4B"
   },
   "outputs": [],
   "source": [
    "# Completa el ejercicio aquí\n",
    "lista = [3, 5, 7, 9]\n",
    "\n",
    "while True:\n",
    "    try:\n",
    "        numero = int(input(\"Introduce un número entre 0 y 9: \"))\n",
    "        \n",
    "        if 0 <= numero <= 9:\n",
    "            break  \n",
    "        else:\n",
    "            print(\"Número fuera del rango. Debe estar entre 0 y 9.\")\n",
    "\n",
    "if numero in lista:\n",
    "    print(f\"El número {numero} se encuentra en la lista de números válidos.\")\n",
    "else:\n",
    "    print(f\"El número {numero} NO se encuentra en la lista de números válidos.\")\n"
   ]
  },
  {
   "cell_type": "code",
   "execution_count": null,
   "metadata": {
    "id": "5yiqU1IhxY4B"
   },
   "outputs": [],
   "source": []
  },
  {
   "cell_type": "markdown",
   "metadata": {
    "id": "Bi4aoo8JxY4C"
   },
   "source": [
    "**6) Utilizando la función range() y la conversión a listas genera las siguientes listas dinámicamente:**\n",
    "* Todos los números del 0 al 10 [0, 1, 2, ..., 10]\n",
    "* Todos los números del -10 al 0 [-10, -9, -8, ..., 0]\n",
    "* Todos los números pares del 0 al 20 [0, 2, 4, ..., 20]\n",
    "* Todos los números impares entre -20 y 0 [-19, -17, -15, ..., -1]\n",
    "* Todos los números múltiples de 5 del 0 al 50 [0, 5, 10, ..., 50]\n",
    "\n",
    "*Pista: Utiliza el tercer parámetro de la función range(inicio, fin, salto).*"
   ]
  },
  {
   "cell_type": "code",
   "execution_count": null,
   "metadata": {
    "id": "ij1q4KRrxY4C"
   },
   "outputs": [],
   "source": [
    "# Completa el ejercicio\n",
    "numeros_0_a_10 = list(range(0, 11))\n",
    "print(\"Números del 0 al 10:\", numeros_0_a_10)\n",
    "\n",
    "numeros_negativos_10_a_0 = list(range(-10, 1))\n",
    "print(\"Números del -10 al 0:\", numeros_negativos_10_a_0)\n",
    "\n",
    "numeros_pares_0_a_20 = list(range(0, 21, 2))\n",
    "print(\"Números pares del 0 al 20:\", numeros_pares_0_a_20)\n",
    "\n",
    "numeros_impares_negativos = list(range(-19, 0, 2))\n",
    "print(\"Números impares entre -20 y 0:\", numeros_impares_negativos)\n",
    "\n",
    "numeros_multiples_5 = list(range(0, 51, 5))\n",
    "print(\"Números múltiplos de 5 del 0 al 50:\", numeros_multiples_5)"
   ]
  },
  {
   "cell_type": "code",
   "execution_count": 1,
   "metadata": {
    "colab": {
     "base_uri": "https://localhost:8080/"
    },
    "executionInfo": {
     "elapsed": 206,
     "status": "ok",
     "timestamp": 1738753345279,
     "user": {
      "displayName": "JESUS ALCOCER FERNANDEZ",
      "userId": "10994521804453378378"
     },
     "user_tz": -60
    },
    "id": "jdmqkGurxY4C",
    "outputId": "8bd18bb9-22d5-408f-c317-93bb592b643a"
   },
   "outputs": [
    {
     "name": "stdout",
     "output_type": "stream",
     "text": [
      "[0, 1, 2, 3, 4, 5, 6, 7, 8, 9, 10]\n",
      "[-10, -9, -8, -7, -6, -5, -4, -3, -2, -1, 0]\n",
      "[0, 2, 4, 6, 8, 10, 12, 14, 16, 18, 20]\n",
      "[-19, -17, -15, -13, -11, -9, -7, -5, -3, -1]\n",
      "[0, 5, 10, 15, 20, 25, 30, 35, 40, 45, 50]\n"
     ]
    }
   ],
   "source": [
    "print(list(range(0,11)))#---Todos los números del 0 al 10\n",
    "print(list(range(-10,1,1)))#---Todos los números del -10 al 0\n",
    "print(list(range(0,21,2)))#---Todos los números pares del 0 al 20\n",
    "print(list(range(-19,1,2)))#---Todos los números impares entre -20 y 0\n",
    "print(list(range(0,51,5)))#---Todos los números múltiples de 5 del 0 al 50"
   ]
  },
  {
   "cell_type": "markdown",
   "metadata": {
    "id": "xOa4Puw2xY4C"
   },
   "source": [
    "**7) Dadas dos listas, debes generar una tercera con todos los elementos que se repitan en ellas, pero no debe repetise ningún elemento en la nueva lista:**"
   ]
  },
  {
   "cell_type": "code",
   "execution_count": null,
   "metadata": {
    "id": "1NmkcyUWxY4C"
   },
   "outputs": [],
   "source": [
    "# Completa el ejercicio aquí\n",
    "lista1 = [1, 2, 3, 4, 5, 6]\n",
    "lista2 = [4, 5, 6, 7, 8, 9]\n",
    "\n",
    "elementos_repetidos = list(set(lista1) & set(lista2))\n",
    "\n",
    "print(\"Elementos repetidos sin duplicados:\", elementos_repetidos)"
   ]
  },
  {
   "cell_type": "code",
   "execution_count": null,
   "metadata": {
    "id": "Y8yDuo03xY4F"
   },
   "outputs": [],
   "source": []
  }
 ],
 "metadata": {
  "anaconda-cloud": {},
  "colab": {
   "provenance": []
  },
  "kernelspec": {
   "display_name": "Python 3",
   "language": "python",
   "name": "python3"
  },
  "language_info": {
   "codemirror_mode": {
    "name": "ipython",
    "version": 3
   },
   "file_extension": ".py",
   "mimetype": "text/x-python",
   "name": "python",
   "nbconvert_exporter": "python",
   "pygments_lexer": "ipython3",
   "version": "3.12.8"
  }
 },
 "nbformat": 4,
 "nbformat_minor": 0
}
